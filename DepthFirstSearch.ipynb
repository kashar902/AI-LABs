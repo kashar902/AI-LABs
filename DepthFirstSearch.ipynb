{
 "cells": [
  {
   "cell_type": "code",
   "execution_count": 4,
   "id": "79c0fae5",
   "metadata": {},
   "outputs": [],
   "source": [
    "from collections import defaultdict\n",
    "from collections import deque"
   ]
  },
  {
   "cell_type": "code",
   "execution_count": 10,
   "id": "adecf729",
   "metadata": {},
   "outputs": [],
   "source": [
    "class Graph:\n",
    "    def __init__(self, directed): \n",
    "        \"\"\"Parametrized constructor of class Graph \"\"\"\n",
    "        self.graph =  defaultdict(list)\n",
    "        self.directed = directed\n",
    "\n",
    "    def add_edge(self, u, v):\n",
    "        \"\"\"Add Edges between two nodes \"\"\"\n",
    "        if self.directed:\n",
    "            self.graph[u].append(v)\n",
    "        else:\n",
    "            self.graph[u].append(v)\n",
    "            self.graph[v].append(u)\n",
    "\n",
    "    def DFS(self, vertex):\n",
    "        visited = []  \n",
    "        stack = deque()\n",
    "        stack.append(vertex)\n",
    "        \n",
    "        while len(stack) != 0:\n",
    "            vertex = stack.pop()\n",
    "            \n",
    "            if vertex in visited:\n",
    "                continue\n",
    "            print(vertex, end = ' ')\n",
    "            visited.append(vertex)\n",
    "            \n",
    "            for neighbour in self.graph[vertex]:\n",
    "                if neighbour != None:\n",
    "                    stack.append(neighbour)"
   ]
  },
  {
   "cell_type": "code",
   "execution_count": 11,
   "id": "7d711b99",
   "metadata": {},
   "outputs": [],
   "source": [
    "g = Graph(True)"
   ]
  },
  {
   "cell_type": "code",
   "execution_count": 12,
   "id": "e3e1e2f6",
   "metadata": {},
   "outputs": [],
   "source": [
    "g.add_edge('A','E')\n",
    "g.add_edge('A','C')\n",
    "g.add_edge('C','F')\n",
    "g.add_edge('B','H')\n",
    "g.add_edge('E','H')\n",
    "g.add_edge('A','G')\n",
    "g.add_edge('G',None)\n",
    "g.add_edge('A','F')\n",
    "g.add_edge('E','F')\n",
    "g.add_edge('D','H')\n",
    "g.add_edge('C','H')\n",
    "g.add_edge('F','F')\n",
    "g.add_edge('F','G')"
   ]
  },
  {
   "cell_type": "code",
   "execution_count": 13,
   "id": "bf6386d7",
   "metadata": {},
   "outputs": [
    {
     "data": {
      "text/plain": [
       "defaultdict(list,\n",
       "            {'A': ['E', 'C', 'G', 'F'],\n",
       "             'C': ['F', 'H'],\n",
       "             'B': ['H'],\n",
       "             'E': ['H', 'F'],\n",
       "             'G': [None],\n",
       "             'D': ['H'],\n",
       "             'F': ['F', 'G']})"
      ]
     },
     "execution_count": 13,
     "metadata": {},
     "output_type": "execute_result"
    }
   ],
   "source": [
    "g.graph"
   ]
  },
  {
   "cell_type": "code",
   "execution_count": 14,
   "id": "f2c68867",
   "metadata": {},
   "outputs": [
    {
     "name": "stdout",
     "output_type": "stream",
     "text": [
      "A F G C H E "
     ]
    }
   ],
   "source": [
    "g.DFS('A')"
   ]
  },
  {
   "cell_type": "code",
   "execution_count": null,
   "id": "4a1bb109",
   "metadata": {},
   "outputs": [],
   "source": []
  }
 ],
 "metadata": {
  "kernelspec": {
   "display_name": "Python 3 (ipykernel)",
   "language": "python",
   "name": "python3"
  },
  "language_info": {
   "codemirror_mode": {
    "name": "ipython",
    "version": 3
   },
   "file_extension": ".py",
   "mimetype": "text/x-python",
   "name": "python",
   "nbconvert_exporter": "python",
   "pygments_lexer": "ipython3",
   "version": "3.9.12"
  }
 },
 "nbformat": 4,
 "nbformat_minor": 5
}
