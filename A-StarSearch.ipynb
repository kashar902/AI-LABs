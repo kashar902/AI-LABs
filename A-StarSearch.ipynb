{
 "cells": [
  {
   "cell_type": "code",
   "execution_count": 1,
   "id": "611d2b1a",
   "metadata": {},
   "outputs": [],
   "source": [
    "import copy"
   ]
  },
  {
   "cell_type": "code",
   "execution_count": 2,
   "id": "eb6113a2",
   "metadata": {},
   "outputs": [],
   "source": [
    "graph = {\n",
    " 'A': {'B': 9, 'C': 4, 'D': 7},\n",
    " 'B': {'A': 9, 'E': 11},\n",
    " 'C': {'A': 4, 'E': 17, 'F': 12},\n",
    " 'D': {'A': 7, 'F': 14},\n",
    " 'E': {'B': 11, 'C': 17, 'Z': 5},\n",
    " 'F': {'C': 12, 'D': 14, 'Z': 9}\n",
    "}\n",
    "heuristic = {\n",
    " 'A':21,\n",
    " 'B':14,\n",
    " 'C':18,\n",
    " 'D':18,\n",
    " 'E':5,\n",
    " 'F':8,\n",
    " 'Z':0\n",
    " }\n"
   ]
  },
  {
   "cell_type": "code",
   "execution_count": 3,
   "id": "e124fcd6",
   "metadata": {},
   "outputs": [
    {
     "data": {
      "text/plain": [
       "{'A': {'B': 9, 'C': 4, 'D': 7},\n",
       " 'B': {'A': 9, 'E': 11},\n",
       " 'C': {'A': 4, 'E': 17, 'F': 12},\n",
       " 'D': {'A': 7, 'F': 14},\n",
       " 'E': {'B': 11, 'C': 17, 'Z': 5},\n",
       " 'F': {'C': 12, 'D': 14, 'Z': 9}}"
      ]
     },
     "execution_count": 3,
     "metadata": {},
     "output_type": "execute_result"
    }
   ],
   "source": [
    "graph"
   ]
  },
  {
   "cell_type": "code",
   "execution_count": 4,
   "id": "d4a731c8",
   "metadata": {},
   "outputs": [
    {
     "data": {
      "text/plain": [
       "{'A': 21, 'B': 14, 'C': 18, 'D': 18, 'E': 5, 'F': 8, 'Z': 0}"
      ]
     },
     "execution_count": 4,
     "metadata": {},
     "output_type": "execute_result"
    }
   ],
   "source": [
    "heuristic"
   ]
  },
  {
   "cell_type": "code",
   "execution_count": 6,
   "id": "d5c91300",
   "metadata": {},
   "outputs": [],
   "source": [
    "def compute_cost(graph, path):\n",
    "    actual_path = path[0]\n",
    "    cost = 0\n",
    "    for i in range(len(actual_path)-1):\n",
    "        cost += graph[actual_path[i]][actual_path[i+1]]\n",
    "    return cost"
   ]
  },
  {
   "cell_type": "code",
   "execution_count": 7,
   "id": "5e901604",
   "metadata": {},
   "outputs": [],
   "source": [
    "def a_star(graph, heuristic, start, end):\n",
    "    queue = []\n",
    "    queue.append([[start], 0+heuristic[start]])\n",
    "    visited = []\n",
    "    while queue:\n",
    "        path = queue.pop(0)\n",
    "        node = path[0][-1]\n",
    "        if node == end:\n",
    "            cost = compute_cost(graph, path)\n",
    "            return path, cost\n",
    "        child = []\n",
    "        visited.append(node)\n",
    "        if node in graph:\n",
    "            child = graph[node]\n",
    "        for value in child:\n",
    "            if value in visited:\n",
    "                continue\n",
    "            new_path = copy.deepcopy(path)\n",
    "            new_path[0].append(value)\n",
    "            new_path[-1] = compute_cost(graph, new_path) + heuristic[value] \n",
    "                        #f(n) = g(n)+ h(n)\n",
    "            queue.append(new_path)\n",
    "        queue.sort(key=lambda x: x[1])\n",
    "    return 'failure'"
   ]
  },
  {
   "cell_type": "code",
   "execution_count": 13,
   "id": "64c9eac7",
   "metadata": {},
   "outputs": [
    {
     "data": {
      "text/plain": [
       "([['A', 'C', 'F', 'Z'], 25], 25)"
      ]
     },
     "execution_count": 13,
     "metadata": {},
     "output_type": "execute_result"
    }
   ],
   "source": [
    "a_star(graph, heuristic, 'A', 'Z')"
   ]
  }
 ],
 "metadata": {
  "kernelspec": {
   "display_name": "Python 3 (ipykernel)",
   "language": "python",
   "name": "python3"
  },
  "language_info": {
   "codemirror_mode": {
    "name": "ipython",
    "version": 3
   },
   "file_extension": ".py",
   "mimetype": "text/x-python",
   "name": "python",
   "nbconvert_exporter": "python",
   "pygments_lexer": "ipython3",
   "version": "3.9.12"
  }
 },
 "nbformat": 4,
 "nbformat_minor": 5
}
