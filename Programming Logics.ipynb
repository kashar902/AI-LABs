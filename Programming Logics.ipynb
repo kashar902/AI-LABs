{
 "cells": [
  {
   "cell_type": "code",
   "execution_count": 77,
   "id": "a0b5125d",
   "metadata": {},
   "outputs": [],
   "source": [
    "lst = ['a','b','c','d','e','f','g','h','i','j','k','l','m','n','o','p','q','r','s','t','u','v','w','y','z', 'e', 'f']"
   ]
  },
  {
   "cell_type": "markdown",
   "id": "72f83830",
   "metadata": {},
   "source": [
    "# Naive method"
   ]
  },
  {
   "cell_type": "code",
   "execution_count": 89,
   "id": "65c13bf5",
   "metadata": {},
   "outputs": [],
   "source": [
    "def ListRemove(x):\n",
    "    res=[]\n",
    "    for i in lst:\n",
    "        if i not in res:\n",
    "            res.append(i)\n",
    "    return res\n",
    "    "
   ]
  }
 ],
 "metadata": {
  "kernelspec": {
   "display_name": "Python 3 (ipykernel)",
   "language": "python",
   "name": "python3"
  },
  "language_info": {
   "codemirror_mode": {
    "name": "ipython",
    "version": 3
   },
   "file_extension": ".py",
   "mimetype": "text/x-python",
   "name": "python",
   "nbconvert_exporter": "python",
   "pygments_lexer": "ipython3",
   "version": "3.9.12"
  }
 },
 "nbformat": 4,
 "nbformat_minor": 5
}
